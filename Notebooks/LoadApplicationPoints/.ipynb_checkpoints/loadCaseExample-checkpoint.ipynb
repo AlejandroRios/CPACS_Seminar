{
 "cells": [
  {
   "cell_type": "code",
   "execution_count": 1,
   "metadata": {},
   "outputs": [],
   "source": [
    "import numpy as np\n",
    "import os"
   ]
  },
  {
   "cell_type": "markdown",
   "metadata": {},
   "source": [
    "# Tutorial: computing load application points for CPACS\n",
    "\n"
   ]
  },
  {
   "cell_type": "markdown",
   "metadata": {},
   "source": [
    "## 1. Load CPACS data\n",
    "\n",
    "We import TiXI 3 and open the `loadCaseExample.xml` file:"
   ]
  },
  {
   "cell_type": "code",
   "execution_count": 2,
   "metadata": {},
   "outputs": [
    {
     "name": "stdout",
     "output_type": "stream",
     "text": [
      "CPACS data set input.xml opended successfully.\n"
     ]
    }
   ],
   "source": [
    "from tixi3 import tixi3wrapper\n",
    "\n",
    "# Instantiate TiXI\n",
    "tixi_h = tixi3wrapper.Tixi3()\n",
    "\n",
    "# Open the XML file\n",
    "fname = 'input.xml'\n",
    "error = tixi_h.open(fname)\n",
    "if not error:\n",
    "    print('CPACS data set %s opended successfully.'%fname)"
   ]
  },
  {
   "cell_type": "markdown",
   "metadata": {},
   "source": [
    "Let's begin with a schema validation before we proceed:"
   ]
  },
  {
   "cell_type": "code",
   "execution_count": 3,
   "metadata": {},
   "outputs": [
    {
     "name": "stdout",
     "output_type": "stream",
     "text": [
      "CPACS data set valid with cpacs_schema.xsd\n"
     ]
    }
   ],
   "source": [
    "xsd_file = 'cpacs_schema.xsd'\n",
    "error = tixi_h.schemaValidateFromFile(xsd_file)\n",
    "if not error:\n",
    "    print('CPACS data set valid with %s'%xsd_file)"
   ]
  },
  {
   "cell_type": "markdown",
   "metadata": {},
   "source": [
    "Use `help` to get an overview of TiXI methods:"
   ]
  },
  {
   "cell_type": "code",
   "execution_count": 4,
   "metadata": {},
   "outputs": [
    {
     "name": "stdout",
     "output_type": "stream",
     "text": [
      "Help on Tixi3 in module tixi3.tixi3wrapper object:\n",
      "\n",
      "class Tixi3(builtins.object)\n",
      " |  Methods defined here:\n",
      " |  \n",
      " |  __del__(self)\n",
      " |  \n",
      " |  __init__(self)\n",
      " |      Initialize self.  See help(type(self)) for accurate signature.\n",
      " |  \n",
      " |  addBooleanElement(self, parentPath, elementName, boolean)\n",
      " |  \n",
      " |  addBooleanElementNS(self, parentPath, qualifiedName, namespaceURI, boolean)\n",
      " |  \n",
      " |  addCpacsHeader(self, name, creator, version, description, cpacsVersion)\n",
      " |  \n",
      " |  addDoubleAttribute(self, elementPath, attributeName, number, format)\n",
      " |  \n",
      " |  addDoubleElement(self, parentPath, elementName, number, format)\n",
      " |  \n",
      " |  addDoubleElementNS(self, parentPath, qualifiedName, namespaceURI, number, format)\n",
      " |  \n",
      " |  addDoubleListWithAttributes(self, parentPath, listName, childName, childAttributeName, values, format, attributes, nValues)\n",
      " |  \n",
      " |  addExternalLink(self, parentPath, url, fileFormat)\n",
      " |  \n",
      " |  addFloatVector(self, parentPath, elementName, vector, numElements, format)\n",
      " |  \n",
      " |  addHeader(self, toolName, version, authorName)\n",
      " |  \n",
      " |  addIntegerAttribute(self, elementPath, attributeName, number, format)\n",
      " |  \n",
      " |  addIntegerElement(self, parentPath, elementName, number, format)\n",
      " |  \n",
      " |  addIntegerElementNS(self, parentPath, qualifiedName, namespaceURI, number, format)\n",
      " |  \n",
      " |  addPoint(self, pointParentPath, x, y, z, format)\n",
      " |  \n",
      " |  addTextAttribute(self, elementPath, attributeName, attributeValue)\n",
      " |  \n",
      " |  addTextElement(self, parentPath, elementName, text)\n",
      " |  \n",
      " |  addTextElementAtIndex(self, parentPath, elementName, text, index)\n",
      " |  \n",
      " |  addTextElementNS(self, parentPath, qualifiedName, namespaceURI, text)\n",
      " |  \n",
      " |  addTextElementNSAtIndex(self, parentPath, qualifiedName, namespaceURI, text, index)\n",
      " |  \n",
      " |  checkAttribute(self, elementPath, attributeName)\n",
      " |      boolean return values from special return code is coded manually here\n",
      " |  \n",
      " |  checkDocumentHandle(self)\n",
      " |  \n",
      " |  checkElement(self, elementPath)\n",
      " |      boolean return values from special return code is coded manually here\n",
      " |  \n",
      " |  cleanup(self)\n",
      " |  \n",
      " |  close(self)\n",
      " |  \n",
      " |  closeAllDocuments(self)\n",
      " |  \n",
      " |  create(self, rootElementName)\n",
      " |  \n",
      " |  createElement(self, parentPath, elementName)\n",
      " |  \n",
      " |  createElementAtIndex(self, parentPath, elementName, index)\n",
      " |  \n",
      " |  createElementNS(self, parentPath, qualifiedName, namespaceURI)\n",
      " |  \n",
      " |  createElementNSAtIndex(self, parentPath, qualifiedName, index, namespaceURI)\n",
      " |  \n",
      " |  dTDValidate(self, DTDFilename)\n",
      " |  \n",
      " |  declareNamespace(self, elementPath, namespaceURI, prefix)\n",
      " |  \n",
      " |  exportDocumentAsString(self)\n",
      " |  \n",
      " |  getArray(self, arrayPath, elementName, arraySize)\n",
      " |  \n",
      " |  getArrayDimensionNames(self, arrayPath, dimensionNames_len)\n",
      " |  \n",
      " |  getArrayDimensionSizes(self, arrayPath, sizes_len)\n",
      " |  \n",
      " |  getArrayDimensionValues(self, arrayPath, dimension, dimensionValues_len)\n",
      " |  \n",
      " |  getArrayDimensions(self, arrayPath)\n",
      " |  \n",
      " |  getArrayElementCount(self, arrayPath, elementName)\n",
      " |  \n",
      " |  getArrayElementNames(self, arrayPath, elementType)\n",
      " |  \n",
      " |  getArrayParameterNames(self, arrayPath, parameterNames_len)\n",
      " |  \n",
      " |  getArrayParameters(self, arrayPath)\n",
      " |  \n",
      " |  getArrayValue(self, array, dimSize, dimPos, dims)\n",
      " |  \n",
      " |  getAttributeName(self, elementPath, attrIndex)\n",
      " |  \n",
      " |  getBooleanAttribute(self, elementPath, attributeName)\n",
      " |  \n",
      " |  getBooleanElement(self, elementPath)\n",
      " |  \n",
      " |  getChildNodeName(self, parentElementPath, index)\n",
      " |  \n",
      " |  getDocumentPath(self)\n",
      " |  \n",
      " |  getDoubleAttribute(self, elementPath, attributeName)\n",
      " |  \n",
      " |  getDoubleElement(self, elementPath)\n",
      " |  \n",
      " |  getFloatVector(self, vectorPath, eNumber)\n",
      " |  \n",
      " |  getIntegerAttribute(self, elementPath, attributeName)\n",
      " |  \n",
      " |  getIntegerElement(self, elementPath)\n",
      " |  \n",
      " |  getNamedChildrenCount(self, elementPath, childName)\n",
      " |  \n",
      " |  getNodeType(self, nodePath)\n",
      " |  \n",
      " |  getNumberOfAttributes(self, elementPath)\n",
      " |  \n",
      " |  getNumberOfChilds(self, elementPath)\n",
      " |  \n",
      " |  getPoint(self, pointParentPath)\n",
      " |  \n",
      " |  getPrintMsgFunc(self)\n",
      " |  \n",
      " |  getTextAttribute(self, elementPath, attributeName)\n",
      " |  \n",
      " |  getTextElement(self, elementPath)\n",
      " |  \n",
      " |  getVectorSize(self, vectorPath)\n",
      " |  \n",
      " |  getVersion(self)\n",
      " |  \n",
      " |  open(self, xmlInputFilename, recursive=False)\n",
      " |  \n",
      " |  openDocument(self, xmlFilename)\n",
      " |  \n",
      " |  openDocumentRecursive(self, xmlFilename, oMode)\n",
      " |  \n",
      " |  openHttp(self, httpURL)\n",
      " |  \n",
      " |  openString(self, xmlImportString)\n",
      " |  \n",
      " |  registerNamespace(self, namespaceURI, prefix)\n",
      " |  \n",
      " |  registerNamespacesFromDocument(self)\n",
      " |  \n",
      " |  removeAttribute(self, elementPath, attributeName)\n",
      " |  \n",
      " |  removeElement(self, elementPath)\n",
      " |  \n",
      " |  renameElement(self, parentPath, oldName, newName)\n",
      " |  \n",
      " |  save(self, fileName, recursive=False, remove=False)\n",
      " |      Save the main tixi document.\n",
      " |      If the document was opened recursively,\n",
      " |       * 'recursive' tells to save linked nodes to their respecitve files, too.\n",
      " |       * 'remove' tells to remove the links to external files after saving the complete CPACS inclusively all linked content to the main file.\n",
      " |      You cannot have 'remove' without 'recursive'.\n",
      " |  \n",
      " |  saveAndRemoveDocument(self, xmlFilename)\n",
      " |  \n",
      " |  saveCompleteDocument(self, xmlFilename)\n",
      " |  \n",
      " |  saveDocument(self, xmlFilename)\n",
      " |  \n",
      " |  schemaValidateFromFile(self, xsdFilename)\n",
      " |  \n",
      " |  schemaValidateFromString(self, xsdString)\n",
      " |  \n",
      " |  schemaValidateWithDefaultsFromFile(self, xsdFilename)\n",
      " |  \n",
      " |  setCacheEnabled(self, enabled)\n",
      " |  \n",
      " |  setElementNamespace(self, elementPath, namespaceURI, prefix)\n",
      " |  \n",
      " |  swapElements(self, element1Path, element2Path)\n",
      " |  \n",
      " |  uIDCheckDuplicates(self)\n",
      " |  \n",
      " |  uIDCheckExists(self, uID)\n",
      " |  \n",
      " |  uIDCheckLinks(self)\n",
      " |  \n",
      " |  uIDGetXPath(self, uID)\n",
      " |  \n",
      " |  uIDSetToXPath(self, xPath, uID)\n",
      " |  \n",
      " |  updateBooleanElement(self, elementPath, boolean)\n",
      " |  \n",
      " |  updateDoubleElement(self, elementPath, number, format)\n",
      " |  \n",
      " |  updateFloatVector(self, path, vector, numElements, format)\n",
      " |  \n",
      " |  updateIntegerElement(self, elementPath, number, format)\n",
      " |  \n",
      " |  updateTextElement(self, elementPath, text)\n",
      " |  \n",
      " |  usePrettyPrint(self, usePrettyPrint)\n",
      " |  \n",
      " |  xPathEvaluateNodeNumber(self, xPathExpression)\n",
      " |  \n",
      " |  xPathExpressionGetTextByIndex(self, xPathExpression, elementNumber)\n",
      " |  \n",
      " |  xPathExpressionGetXPath(self, xPathExpression, index)\n",
      " |  \n",
      " |  xSLTransformationToFile(self, xslFilename, resultFilename)\n",
      " |  \n",
      " |  xSLTransformationToString(self, xslFilename)\n",
      " |  \n",
      " |  ----------------------------------------------------------------------\n",
      " |  Data descriptors defined here:\n",
      " |  \n",
      " |  __dict__\n",
      " |      dictionary for instance variables (if defined)\n",
      " |  \n",
      " |  __weakref__\n",
      " |      list of weak references to the object (if defined)\n",
      " |  \n",
      " |  ----------------------------------------------------------------------\n",
      " |  Data and other attributes defined here:\n",
      " |  \n",
      " |  lib = <CDLL 'tixi3', handle 7fec4530000>\n",
      "\n"
     ]
    }
   ],
   "source": [
    "help(tixi_h)"
   ]
  },
  {
   "cell_type": "markdown",
   "metadata": {},
   "source": [
    "We check whether we have an existing reference axis and load the corresponding coordinates. "
   ]
  },
  {
   "cell_type": "code",
   "execution_count": 5,
   "metadata": {},
   "outputs": [
    {
     "name": "stdout",
     "output_type": "stream",
     "text": [
      "Reference axis points:\n",
      "[0.0, 0.3, False, 'D150_iLOADS_W1_CompSeg1']\n",
      "[0.12, 0.3, 0.5, 'D150_iLOADS_W1_CompSeg1']\n",
      "[1.0, 0.4, 0.5, 'D150_iLOADS_W1_CompSeg1']\n"
     ]
    }
   ],
   "source": [
    "# Look for the first point set in the data set\n",
    "xpath = '/cpacs/vehicles/aircraft/model[1]/analyses/global/loadApplicationPoints/pointSet[1]'\n",
    "if tixi_h.checkElement(xpath):\n",
    "    \n",
    "    # The component uID points to the corresponding component segment\n",
    "    componentUID = tixi_h.getTextElement(xpath+'/componentUID')\n",
    "    \n",
    "    # Check whether a reference axis is given\n",
    "    xpath += '/loadReferenceAxisPoints'\n",
    "    if tixi_h.checkElement(xpath):\n",
    "        \n",
    "        point_list = []\n",
    "        # Read the point list\n",
    "        for i in range(tixi_h.getNumberOfChilds(xpath)):\n",
    "            \n",
    "            # If <refPoint> is given, we expect relative coordinates. \n",
    "            # The alternative of absolute coordinates is not accounted for in this example code.\n",
    "            point_xpath = xpath+'/loadReferenceAxisPoint[%i]/refPoint'%(i+1)\n",
    "            \n",
    "            if tixi_h.checkElement(point_xpath):\n",
    "                referenceUID = tixi_h.getTextElement(point_xpath+'/referenceUID')\n",
    "                eta = tixi_h.getDoubleElement(point_xpath+'/eta')\n",
    "                xsi = tixi_h.getDoubleElement(point_xpath+'/xsi')\n",
    "                \n",
    "                # <relHeight> is optional, so we set False to indicate that the value is not given\n",
    "                if tixi_h.checkElement(point_xpath+'/relHeight'):\n",
    "                    relHeight = tixi_h.getDoubleElement(point_xpath+'/relHeight')\n",
    "                else:\n",
    "                    relHeight = False\n",
    "                point_list.append([eta,xsi,relHeight,referenceUID])\n",
    "\n",
    "\n",
    "print('Reference axis points:',*point_list, sep = \"\\n\")"
   ]
  },
  {
   "cell_type": "markdown",
   "metadata": {},
   "source": [
    "We now extracted a list of points defining a reference line. In a next step we want to compute the intersection of this reference line with a the ribs to specify proper load application points for structural analysis."
   ]
  },
  {
   "cell_type": "markdown",
   "metadata": {},
   "source": [
    "## 2. Intersection of reference line with ribs"
   ]
  },
  {
   "cell_type": "markdown",
   "metadata": {},
   "source": [
    "We will use the TiGL API for the basic geometry handling. The example will furthermore illustrate how to use Opencascade for individual geometry operations in case they are not implemented in TiGL."
   ]
  },
  {
   "cell_type": "markdown",
   "metadata": {},
   "source": [
    "### 2.1 Using TiGL to extract the geometry of wing, ribs and spars\n",
    "\n",
    "Open a TiGL instance and load the uID manager:"
   ]
  },
  {
   "cell_type": "code",
   "execution_count": 6,
   "metadata": {},
   "outputs": [],
   "source": [
    "from tigl3 import tigl3wrapper\n",
    "import tigl3.configuration\n",
    "\n",
    "# Instantiate TiGL\n",
    "tigl_h = tigl3wrapper.Tigl3()\n",
    "tigl_h.open(tixi_h, '')\n",
    "\n",
    "# Load TiGL configuration manager and uID manager\n",
    "mgr = tigl3.configuration.CCPACSConfigurationManager_get_instance()\n",
    "aircraft_config = mgr.get_configuration(tigl_h._handle.value)\n",
    "uid_mgr = aircraft_config.get_uidmanager()"
   ]
  },
  {
   "cell_type": "markdown",
   "metadata": {},
   "source": [
    "Get the wing by its `uID`, the component segment by its index and the corresponding internal structure:"
   ]
  },
  {
   "cell_type": "code",
   "execution_count": 7,
   "metadata": {},
   "outputs": [],
   "source": [
    "wing = uid_mgr.get_geometric_component('D150_iLOADS_W1')\n",
    "component_segment = wing.get_component_segment(1)\n",
    "wing_structure = component_segment.get_structure()"
   ]
  },
  {
   "cell_type": "markdown",
   "metadata": {},
   "source": [
    "Now we extract the spars and ribs:"
   ]
  },
  {
   "cell_type": "code",
   "execution_count": 8,
   "metadata": {},
   "outputs": [
    {
     "name": "stdout",
     "output_type": "stream",
     "text": [
      "get rib set #1 ..\n",
      "get rib set #2 ..\n",
      "get rib set #3 ..\n",
      "get rib set #4 ..\n",
      "get rib set #5 ..\n",
      "get rib set #6 ..\n",
      "get rib set #7 ..\n",
      "\n",
      "Done with reading 31 rib faces from 6 rib sets!\n"
     ]
    }
   ],
   "source": [
    "spars = []\n",
    "for i in range(wing_structure.get_spar_segment_count()):\n",
    "    spars.append(wing_structure.get_spar_segment(i+1))\n",
    "\n",
    "rib_sets = []\n",
    "rib_faces = []\n",
    "for i in range(wing_structure.get_ribs_definition_count()):\n",
    "    print('get rib set #%i ..'%(i+1))\n",
    "    rib_set = wing_structure.get_ribs_definition(i+1)\n",
    "    rib_sets.append(rib_set)\n",
    "    for j in range(rib_set.get_number_of_ribs()):\n",
    "        rib_faces.append(rib_set.get_rib_face(j+1))\n",
    "\n",
    "print(\"\\nDone with reading %i rib faces from %i rib sets!\"%(len(rib_faces),i))"
   ]
  },
  {
   "cell_type": "markdown",
   "metadata": {},
   "source": [
    "Let's plot the result using the Opencascade viewer"
   ]
  },
  {
   "cell_type": "code",
   "execution_count": 9,
   "metadata": {
    "scrolled": true
   },
   "outputs": [
    {
     "name": "stdout",
     "output_type": "stream",
     "text": [
      "CRITICAL:OCC.Display.backend:incompatible backend_str specified: qt-pyqt\n",
      "backend is one of : ('qt-pyqt5', 'qt-pyqt4', 'qt-pyside', 'wx')\n"
     ]
    },
    {
     "ename": "ValueError",
     "evalue": "incompatible backend_str specified: qt-pyqt\nbackend is one of : ('qt-pyqt5', 'qt-pyqt4', 'qt-pyside', 'wx')",
     "output_type": "error",
     "traceback": [
      "\u001b[1;31m---------------------------------------------------------------------------\u001b[0m",
      "\u001b[1;31mValueError\u001b[0m                                Traceback (most recent call last)",
      "\u001b[1;32m<ipython-input-9-d30b5d421900>\u001b[0m in \u001b[0;36m<module>\u001b[1;34m\u001b[0m\n\u001b[0;32m      1\u001b[0m \u001b[1;32mfrom\u001b[0m \u001b[0mOCC\u001b[0m\u001b[1;33m.\u001b[0m\u001b[0mDisplay\u001b[0m\u001b[1;33m.\u001b[0m\u001b[0mSimpleGui\u001b[0m \u001b[1;32mimport\u001b[0m \u001b[0minit_display\u001b[0m\u001b[1;33m\u001b[0m\u001b[0m\n\u001b[1;32m----> 2\u001b[1;33m \u001b[0mdisplay\u001b[0m\u001b[1;33m,\u001b[0m \u001b[0mstart_display\u001b[0m\u001b[1;33m,\u001b[0m \u001b[0madd_menu\u001b[0m\u001b[1;33m,\u001b[0m \u001b[0madd_function_to_menu\u001b[0m \u001b[1;33m=\u001b[0m \u001b[0minit_display\u001b[0m\u001b[1;33m(\u001b[0m\u001b[1;34m\"qt-pyqt\"\u001b[0m\u001b[1;33m)\u001b[0m\u001b[1;33m\u001b[0m\u001b[0m\n\u001b[0m\u001b[0;32m      3\u001b[0m \u001b[0mdisplay\u001b[0m\u001b[1;33m.\u001b[0m\u001b[0mDisplayShape\u001b[0m\u001b[1;33m(\u001b[0m\u001b[0mwing\u001b[0m\u001b[1;33m.\u001b[0m\u001b[0mget_lower_shape\u001b[0m\u001b[1;33m(\u001b[0m\u001b[1;33m)\u001b[0m\u001b[1;33m,\u001b[0m \u001b[0mtransparency\u001b[0m\u001b[1;33m=\u001b[0m\u001b[1;36m0.5\u001b[0m\u001b[1;33m,\u001b[0m \u001b[0mupdate\u001b[0m\u001b[1;33m=\u001b[0m\u001b[1;32mTrue\u001b[0m\u001b[1;33m)\u001b[0m\u001b[1;33m\u001b[0m\u001b[0m\n\u001b[0;32m      4\u001b[0m \u001b[0mdisplay\u001b[0m\u001b[1;33m.\u001b[0m\u001b[0mDisplayShape\u001b[0m\u001b[1;33m(\u001b[0m\u001b[0mwing\u001b[0m\u001b[1;33m.\u001b[0m\u001b[0mget_upper_shape\u001b[0m\u001b[1;33m(\u001b[0m\u001b[1;33m)\u001b[0m\u001b[1;33m,\u001b[0m \u001b[0mtransparency\u001b[0m\u001b[1;33m=\u001b[0m\u001b[1;36m0.5\u001b[0m\u001b[1;33m,\u001b[0m \u001b[0mupdate\u001b[0m\u001b[1;33m=\u001b[0m\u001b[1;32mTrue\u001b[0m\u001b[1;33m)\u001b[0m\u001b[1;33m\u001b[0m\u001b[0m\n\u001b[0;32m      5\u001b[0m \u001b[1;32mfor\u001b[0m \u001b[0mspar\u001b[0m \u001b[1;32min\u001b[0m \u001b[0mspars\u001b[0m\u001b[1;33m:\u001b[0m\u001b[1;33m\u001b[0m\u001b[0m\n",
      "\u001b[1;32mD:\\Programs\\Conda\\envs\\python3_cpacs\\lib\\site-packages\\OCC\\Display\\SimpleGui.py\u001b[0m in \u001b[0;36minit_display\u001b[1;34m(backend_str, size)\u001b[0m\n\u001b[0;32m     90\u001b[0m         \u001b[1;31m# returns empty classes and functions\u001b[0m\u001b[1;33m\u001b[0m\u001b[1;33m\u001b[0m\u001b[0m\n\u001b[0;32m     91\u001b[0m         \u001b[1;32mreturn\u001b[0m \u001b[0mBlindViewer\u001b[0m\u001b[1;33m(\u001b[0m\u001b[1;33m)\u001b[0m\u001b[1;33m,\u001b[0m \u001b[0mdo_nothing\u001b[0m\u001b[1;33m,\u001b[0m \u001b[0mdo_nothing\u001b[0m\u001b[1;33m,\u001b[0m \u001b[0mcall_function\u001b[0m\u001b[1;33m\u001b[0m\u001b[0m\n\u001b[1;32m---> 92\u001b[1;33m     \u001b[0mused_backend\u001b[0m \u001b[1;33m=\u001b[0m \u001b[0mload_backend\u001b[0m\u001b[1;33m(\u001b[0m\u001b[0mbackend_str\u001b[0m\u001b[1;33m)\u001b[0m\u001b[1;33m\u001b[0m\u001b[0m\n\u001b[0m\u001b[0;32m     93\u001b[0m     \u001b[0mlog\u001b[0m\u001b[1;33m.\u001b[0m\u001b[0minfo\u001b[0m\u001b[1;33m(\u001b[0m\u001b[1;34m\"GUI backend set to: %s\"\u001b[0m\u001b[1;33m,\u001b[0m \u001b[0mused_backend\u001b[0m\u001b[1;33m)\u001b[0m\u001b[1;33m\u001b[0m\u001b[0m\n\u001b[0;32m     94\u001b[0m     \u001b[1;31m# wxPython based simple GUI\u001b[0m\u001b[1;33m\u001b[0m\u001b[1;33m\u001b[0m\u001b[0m\n",
      "\u001b[1;32mD:\\Programs\\Conda\\envs\\python3_cpacs\\lib\\site-packages\\OCC\\Display\\backend.py\u001b[0m in \u001b[0;36mload_backend\u001b[1;34m(backend_str)\u001b[0m\n\u001b[0;32m    156\u001b[0m                                                    compatible_backends)\n\u001b[0;32m    157\u001b[0m             \u001b[0mlog\u001b[0m\u001b[1;33m.\u001b[0m\u001b[0mcritical\u001b[0m\u001b[1;33m(\u001b[0m\u001b[0mmsg\u001b[0m\u001b[1;33m)\u001b[0m\u001b[1;33m\u001b[0m\u001b[0m\n\u001b[1;32m--> 158\u001b[1;33m             \u001b[1;32mraise\u001b[0m \u001b[0mValueError\u001b[0m\u001b[1;33m(\u001b[0m\u001b[0mmsg\u001b[0m\u001b[1;33m)\u001b[0m\u001b[1;33m\u001b[0m\u001b[0m\n\u001b[0m\u001b[0;32m    159\u001b[0m \u001b[1;33m\u001b[0m\u001b[0m\n\u001b[0;32m    160\u001b[0m     \u001b[1;32mif\u001b[0m \u001b[0mbackend_str\u001b[0m \u001b[1;33m==\u001b[0m \u001b[0mPYQT5\u001b[0m \u001b[1;32mor\u001b[0m \u001b[0mbackend_str\u001b[0m \u001b[1;32mis\u001b[0m \u001b[1;32mNone\u001b[0m\u001b[1;33m:\u001b[0m\u001b[1;33m\u001b[0m\u001b[0m\n",
      "\u001b[1;31mValueError\u001b[0m: incompatible backend_str specified: qt-pyqt\nbackend is one of : ('qt-pyqt5', 'qt-pyqt4', 'qt-pyside', 'wx')"
     ]
    }
   ],
   "source": [
    "from OCC.Display.SimpleGui import init_display\n",
    "display, start_display, add_menu, add_function_to_menu = init_display(\"wx\")\n",
    "display.DisplayShape(wing.get_lower_shape(), transparency=0.5, update=True)\n",
    "display.DisplayShape(wing.get_upper_shape(), transparency=0.5, update=True)\n",
    "for spar in spars:\n",
    "    display.DisplayShape(spar.get_spar_geometry(), color=\"blue\", update=True)\n",
    "for i, rib_set in enumerate(rib_sets):\n",
    "    display.DisplayShape(rib_set.get_ribs_geometry(), color=\"blue\", update=True)\n",
    "    \n",
    "# uncomment to enter the event loop\n",
    "# start_display()"
   ]
  },
  {
   "cell_type": "markdown",
   "metadata": {},
   "source": [
    "Result:\n",
    "![ribs and spars](ribs_spars.png)"
   ]
  },
  {
   "cell_type": "markdown",
   "metadata": {},
   "source": [
    "### 2.2 Converting relative component segment coordinates to absolute coordinates using the TiGL API"
   ]
  },
  {
   "cell_type": "markdown",
   "metadata": {},
   "source": [
    "There is no direct TiGL method to translate the relative component segment coordinates to absolute coordinates. But we can use the TiGL API to construct our own method:"
   ]
  },
  {
   "cell_type": "code",
   "execution_count": null,
   "metadata": {},
   "outputs": [],
   "source": [
    "from OCC.gp import gp_Pnt\n",
    "\n",
    "def get_abs_pnt(eta, xsi, relHeight, compUID):\n",
    "    \n",
    "        # get uIDs of the corresponding wing and segment\n",
    "        wing_uid, segm_uid = tigl_h.wingComponentSegmentPointGetSegmentEtaXsi(compUID,eta,xsi)[0:2]\n",
    "        \n",
    "        # get the wing and segment index from its uID\n",
    "        wing_index = tigl_h.wingGetIndex(wing_uid)\n",
    "        segm_index = tigl_h.wingGetSegmentIndex(segm_uid)[0]\n",
    "        \n",
    "        if not relHeight:\n",
    "            pnt = tigl_h.wingGetChordPoint(wing_index,segm_index,eta,xsi)\n",
    "        else:\n",
    "            # compute the unit normal vector to the chord face\n",
    "            chord_normal = np.array(tigl_h.wingGetChordNormal(wing_index, segm_index, eta, xsi))\n",
    "            e = chord_normal/np.linalg.norm(chord_normal)\n",
    "\n",
    "            # get the upper and lower intersection with the wing surface\n",
    "            p_up = np.array(tigl_h.wingGetUpperPointAtDirection(wing_index, segm_index, eta, xsi, e[0], e[1], e[2])[0:3])\n",
    "            p_lo = np.array(tigl_h.wingGetLowerPointAtDirection(wing_index, segm_index, eta, xsi, e[0], e[1], e[2])[0:3])\n",
    "\n",
    "            # translate the relHeight parameter into point coordinates\n",
    "            dist = np.linalg.norm(p_up-p_lo)\n",
    "            pnt = p_lo + relHeight*dist*e\n",
    "\n",
    "        # return the result as gp_Pnt\n",
    "        return gp_Pnt(*pnt)"
   ]
  },
  {
   "cell_type": "code",
   "execution_count": null,
   "metadata": {},
   "outputs": [],
   "source": [
    "comp_uid = component_segment.get_uid()\n",
    "\n",
    "abs_points = []\n",
    "for point in point_list:\n",
    "    abs_points.append(get_abs_pnt(*point))"
   ]
  },
  {
   "cell_type": "code",
   "execution_count": null,
   "metadata": {},
   "outputs": [],
   "source": [
    "from OCC.BRepBuilderAPI import BRepBuilderAPI_MakeEdge\n",
    "\n",
    "edges = []\n",
    "for i in range(len(abs_points)-1):\n",
    "    edges.append(BRepBuilderAPI_MakeEdge(abs_points[i],abs_points[i+1]))"
   ]
  },
  {
   "cell_type": "code",
   "execution_count": null,
   "metadata": {},
   "outputs": [],
   "source": [
    "for pnt in abs_points:\n",
    "    display.DisplayShape(pnt, color=\"green\", update=True)\n",
    "for edge in edges:\n",
    "    display.DisplayShape(edge.Edge(), color=\"green\", update=True)\n",
    "\n",
    "# uncomment to enter the event loop\n",
    "# start_display()"
   ]
  },
  {
   "cell_type": "markdown",
   "metadata": {},
   "source": [
    "### 2.3 Intersection of ribs and reference line using pythonOCC"
   ]
  },
  {
   "cell_type": "code",
   "execution_count": null,
   "metadata": {},
   "outputs": [],
   "source": [
    "from OCC.BRepBuilderAPI import BRepBuilderAPI_MakeWire\n",
    "\n",
    "wire_h = BRepBuilderAPI_MakeWire(edges[0].Edge(), edges[1].Edge())\n",
    "wire = wire_h.Wire()"
   ]
  },
  {
   "cell_type": "code",
   "execution_count": null,
   "metadata": {},
   "outputs": [],
   "source": [
    "from OCC.BRepAdaptor import BRepAdaptor_CompCurve, BRepAdaptor_HCompCurve\n",
    "from OCC.GeomAbs import GeomAbs_C0\n",
    "from OCC.Approx import Approx_Curve3d\n",
    "\n",
    "wireAdaptor = BRepAdaptor_CompCurve(wire)\n",
    "curveAdaptor = BRepAdaptor_HCompCurve(wireAdaptor)\n",
    "approx = Approx_Curve3d(curveAdaptor.GetHandle(), 1e-7, GeomAbs_C0, 5, 12)\n",
    "curve = approx.Curve()"
   ]
  },
  {
   "cell_type": "code",
   "execution_count": null,
   "metadata": {},
   "outputs": [],
   "source": [
    "from OCC.GeomAPI import GeomAPI_IntCS\n",
    "from OCC.BRep import BRep_Tool\n",
    "\n",
    "intersector = GeomAPI_IntCS()\n",
    "intersec_pnts = []\n",
    "for rib_face in rib_faces:\n",
    "    face = BRep_Tool.Surface(rib_face)\n",
    "    intersector.Perform(curve, face)\n",
    "    for i in range(intersector.NbPoints()):\n",
    "        intersec_pnts.append(intersector.Point(i+1))"
   ]
  },
  {
   "cell_type": "code",
   "execution_count": null,
   "metadata": {},
   "outputs": [],
   "source": [
    "for pt in intersec_pnts:\n",
    "    display.DisplayShape(pt, color=\"red\", update=True)\n",
    "    \n",
    "# uncomment to enter the event loop\n",
    "# start_display()"
   ]
  },
  {
   "cell_type": "markdown",
   "metadata": {},
   "source": [
    "## 3. Write load application points to CPACS"
   ]
  },
  {
   "cell_type": "markdown",
   "metadata": {},
   "source": [
    "We want to write these load application points back to our point set. A look into the [online documentation](https://www.cpacs.de/documentation/CPACS_loadCases/html/38b0bdf3-8895-936b-d021-580d9ca7bdc6.htm) reveals the following data structure for this:\n",
    "```XML\n",
    "<pointSet uID=\"wingPointSet1\">\n",
    "    <dynamicAircraftModelPoints>\n",
    "        <pointIDs mapType=\"vector\">1;2;...</pointIDs>\n",
    "        <x mapType=\"vector\">..;..</x>\n",
    "        <y mapType=\"vector\">..;..</y>\n",
    "        <z mapType=\"vector\">..;..</z>\n",
    "    </dynamicAircraftModelPoints>\n",
    "</pointSet>\n",
    "```\n",
    "    "
   ]
  },
  {
   "cell_type": "code",
   "execution_count": null,
   "metadata": {},
   "outputs": [],
   "source": [
    "id_vec, x_vec, y_vec, z_vec = [],[],[],[]\n",
    "\n",
    "for i, pnt in enumerate(intersec_pnts):\n",
    "    id_vec.append(i+1)\n",
    "    x,y,z = pnt.Coord()\n",
    "    x_vec.append(x)\n",
    "    y_vec.append(y)\n",
    "    z_vec.append(z)"
   ]
  },
  {
   "cell_type": "code",
   "execution_count": null,
   "metadata": {},
   "outputs": [],
   "source": [
    "fname = 'output.xml'\n",
    "error = tixi_h.saveDocument(fname)\n",
    "if not error:\n",
    "    print(\"Output written successfully to %s.\"%fname)"
   ]
  },
  {
   "cell_type": "code",
   "execution_count": null,
   "metadata": {},
   "outputs": [],
   "source": [
    "start_display()"
   ]
  },
  {
   "cell_type": "code",
   "execution_count": null,
   "metadata": {},
   "outputs": [],
   "source": []
  },
  {
   "cell_type": "code",
   "execution_count": null,
   "metadata": {},
   "outputs": [],
   "source": []
  }
 ],
 "metadata": {
  "kernelspec": {
   "display_name": "Python 3",
   "language": "python",
   "name": "python3"
  },
  "language_info": {
   "codemirror_mode": {
    "name": "ipython",
    "version": 3
   },
   "file_extension": ".py",
   "mimetype": "text/x-python",
   "name": "python",
   "nbconvert_exporter": "python",
   "pygments_lexer": "ipython3",
   "version": "3.5.5"
  }
 },
 "nbformat": 4,
 "nbformat_minor": 4
}
