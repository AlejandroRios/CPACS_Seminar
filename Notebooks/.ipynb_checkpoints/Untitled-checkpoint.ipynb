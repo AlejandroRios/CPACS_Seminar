{
 "cells": [
  {
   "cell_type": "code",
   "execution_count": null,
   "metadata": {
    "scrolled": true
   },
   "outputs": [
    {
     "name": "stdout",
     "output_type": "stream",
     "text": [
      "Collecting package metadata (current_repodata.json): done\n",
      "Solving environment: failed with repodata from current_repodata.json, will retry with next repodata source.\n",
      "Collecting package metadata (repodata.json): done\n",
      "Solving environment: done\n",
      "\n",
      "## Package Plan ##\n",
      "\n",
      "  environment location: /home/marko/miniconda3/envs/cpacs_env\n",
      "\n",
      "  added / updated specs:\n",
      "    - python=3.5\n",
      "    - tixi3\n",
      "\n",
      "\n",
      "The following NEW packages will be INSTALLED:\n",
      "\n",
      "  _libgcc_mutex      pkgs/main/linux-64::_libgcc_mutex-0.1-main\n",
      "  ca-certificates    pkgs/main/linux-64::ca-certificates-2019.10.16-0\n",
      "  certifi            pkgs/main/linux-64::certifi-2018.8.24-py35_1\n",
      "  libedit            pkgs/main/linux-64::libedit-3.1.20181209-hc058e9b_0\n",
      "  libffi             pkgs/main/linux-64::libffi-3.2.1-hd88cf55_4\n",
      "  libgcc-ng          pkgs/main/linux-64::libgcc-ng-9.1.0-hdf63c60_0\n",
      "  libstdcxx-ng       pkgs/main/linux-64::libstdcxx-ng-9.1.0-hdf63c60_0\n",
      "  ncurses            pkgs/main/linux-64::ncurses-6.1-he6710b0_1\n",
      "  openssl            pkgs/main/linux-64::openssl-1.0.2t-h7b6447c_1\n",
      "  pip                pkgs/main/linux-64::pip-10.0.1-py35_0\n",
      "  python             pkgs/main/linux-64::python-3.5.6-hc3d631a_0\n",
      "  readline           pkgs/main/linux-64::readline-7.0-h7b6447c_5\n",
      "  setuptools         pkgs/main/linux-64::setuptools-40.2.0-py35_0\n",
      "  sqlite             pkgs/main/linux-64::sqlite-3.30.1-h7b6447c_0\n",
      "  tixi3              dlr-sc/linux-64::tixi3-3.0.3-py35hf484d3e_3\n",
      "  tk                 pkgs/main/linux-64::tk-8.6.8-hbc83047_0\n",
      "  wheel              pkgs/main/linux-64::wheel-0.31.1-py35_0\n",
      "  xz                 pkgs/main/linux-64::xz-5.2.4-h14c3975_4\n",
      "  zlib               pkgs/main/linux-64::zlib-1.2.11-h7b6447c_3\n",
      "\n",
      "\n",
      "Proceed ([y]/n)? "
     ]
    }
   ],
   "source": [
    "!conda create -n cpacs_env tixi3 python=3.5 -c dlr-sc"
   ]
  },
  {
   "cell_type": "code",
   "execution_count": null,
   "metadata": {},
   "outputs": [],
   "source": [
    "y"
   ]
  },
  {
   "cell_type": "code",
   "execution_count": null,
   "metadata": {},
   "outputs": [],
   "source": []
  }
 ],
 "metadata": {
  "kernelspec": {
   "display_name": "Python 3",
   "language": "python",
   "name": "python3"
  },
  "language_info": {
   "codemirror_mode": {
    "name": "ipython",
    "version": 3
   },
   "file_extension": ".py",
   "mimetype": "text/x-python",
   "name": "python",
   "nbconvert_exporter": "python",
   "pygments_lexer": "ipython3",
   "version": "3.5.6"
  }
 },
 "nbformat": 4,
 "nbformat_minor": 2
}
